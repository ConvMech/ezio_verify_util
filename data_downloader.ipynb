{
 "cells": [
  {
   "cell_type": "code",
   "execution_count": 1,
   "metadata": {
    "scrolled": false
   },
   "outputs": [
    {
     "name": "stdout",
     "output_type": "stream",
     "text": [
      "(23062, 16)\n",
      "input your password\n",
      "Xzytommy0329\n",
      "('Total order after filter:', 23062)\n"
     ]
    }
   ],
   "source": [
    "import pandas as pd\n",
    "import sys\n",
    "import time\n",
    "import os\n",
    "\n",
    "df = pd.read_csv(\"longvd.csv\",encoding='utf-16',sep='\\t')\n",
    "print df.shape\n",
    "\n",
    "downloadType = \"production\"\n",
    "name = \"tommy\"\n",
    "print \"input your password\"\n",
    "password = raw_input() #input password\n",
    "location = \"~/workspace/data/perfect/\"\n",
    "miminum_verify_time = 30\n",
    "maximum_verify_time = 0.2\n",
    "thatsEnough = 50\n",
    "\n",
    "selected = df[df['Verifying Time Total (Minutes)']>0]\n",
    "total_number = selected.shape[0]\n",
    "print(\"Total order after filter:\", total_number)\n",
    "\n",
    "\n",
    "counter = 0\n",
    "for idx, row in selected.iterrows():\n",
    "    counter += 1\n",
    "    if(counter > thatsEnough):\n",
    "        break\n",
    "    orderId = row['Order Id']\n",
    "    time = float(row['Verifying Time Total (Minutes)'])\n",
    "    #print(orderId)\n",
    "    \n",
    "    #command = \"ruby download_order.rb {} {} {}@hover.to {} {}\"\n",
    "    #command = command.format(downloadType,str(orderId),name,password,location)\n",
    "\n",
    "    #b = os.popen(command)\n",
    "    #result = b.read()\n",
    "    #res_list = result.splitlines()\n",
    "\n",
    "    #sys.stdout.write(\n",
    "    #    '\\r>> order downloaded: {}, {}'.format(counter,res_list[0])\n",
    "    #)\n",
    "    #sys.stdout.flush()\n"
   ]
  }
 ],
 "metadata": {
  "kernelspec": {
   "display_name": "Python 2",
   "language": "python",
   "name": "python2"
  },
  "language_info": {
   "codemirror_mode": {
    "name": "ipython",
    "version": 2
   },
   "file_extension": ".py",
   "mimetype": "text/x-python",
   "name": "python",
   "nbconvert_exporter": "python",
   "pygments_lexer": "ipython2",
   "version": "2.7.14"
  }
 },
 "nbformat": 4,
 "nbformat_minor": 2
}
