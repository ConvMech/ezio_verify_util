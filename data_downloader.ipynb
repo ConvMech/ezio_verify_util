{
 "cells": [
  {
   "cell_type": "code",
   "execution_count": 18,
   "metadata": {
    "scrolled": false
   },
   "outputs": [
    {
     "name": "stdout",
     "output_type": "stream",
     "text": [
      "(3436, 16)\n"
     ]
    },
    {
     "data": {
      "text/plain": [
       "'\\ndownloadType = \"production\"\\nname = \"tommy\"\\nprint \"input your password\"\\npassword = raw_input() #input password\\nlocation = \"~/workspace/data/perfect/\"\\nmiminum_verify_time = 30\\nmaximum_verify_time = 0.2\\nthatsEnough = 50\\n\\nselected = df[df[\\'Verifying Time Total (Minutes)\\']<maximum_verify_time]\\ntotal_number = selected.shape[0]\\nprint(\"Total order after filter:\", total_number)\\n\\ncounter = 0\\nfor idx, row in selected.iterrows():\\n    counter += 1\\n    if(counter > thatsEnough):\\n        break\\n    orderId = row[\\'Order Id\\']\\n    time = float(row[\\'Verifying Time Total (Minutes)\\'])\\n    #print(time)\\n    \\n    command = \"ruby download_order.rb {} {} {}@hover.to {} {}\"\\n    command = command.format(downloadType,str(orderId),name,password,location)\\n\\n    b = os.popen(command)\\n    result = b.read()\\n    res_list = result.splitlines()\\n\\n    sys.stdout.write(\\n        \\'\\r>> order downloaded: {}, {}\\'.format(counter,res_list[0])\\n    )\\n    sys.stdout.flush()\\n'"
      ]
     },
     "execution_count": 18,
     "metadata": {},
     "output_type": "execute_result"
    }
   ],
   "source": [
    "import pandas as pd\n",
    "import sys\n",
    "import time\n",
    "import os\n",
    "\n",
    "df = pd.read_csv(\"High_Verify_Times_data.csv\",encoding='utf-16',sep='\\t')\n",
    "print df.shape\n",
    "\n",
    "downloadType = \"production\"\n",
    "name = \"tommy\"\n",
    "print \"input your password\"\n",
    "password = raw_input() #input password\n",
    "location = \"~/workspace/data/perfect/\"\n",
    "miminum_verify_time = 30\n",
    "maximum_verify_time = 0.2\n",
    "thatsEnough = 50\n",
    "\n",
    "selected = df[df['Verifying Time Total (Minutes)']<maximum_verify_time]\n",
    "total_number = selected.shape[0]\n",
    "print(\"Total order after filter:\", total_number)\n",
    "\n",
    "counter = 0\n",
    "for idx, row in selected.iterrows():\n",
    "    counter += 1\n",
    "    if(counter > thatsEnough):\n",
    "        break\n",
    "    orderId = row['Order Id']\n",
    "    time = float(row['Verifying Time Total (Minutes)'])\n",
    "    #print(time)\n",
    "    \n",
    "    command = \"ruby download_order.rb {} {} {}@hover.to {} {}\"\n",
    "    command = command.format(downloadType,str(orderId),name,password,location)\n",
    "\n",
    "    b = os.popen(command)\n",
    "    result = b.read()\n",
    "    res_list = result.splitlines()\n",
    "\n",
    "    sys.stdout.write(\n",
    "        '\\r>> order downloaded: {}, {}'.format(counter,res_list[0])\n",
    "    )\n",
    "    sys.stdout.flush()"
   ]
  }
 ],
 "metadata": {
  "kernelspec": {
   "display_name": "Python 2",
   "language": "python",
   "name": "python2"
  },
  "language_info": {
   "codemirror_mode": {
    "name": "ipython",
    "version": 2
   },
   "file_extension": ".py",
   "mimetype": "text/x-python",
   "name": "python",
   "nbconvert_exporter": "python",
   "pygments_lexer": "ipython2",
   "version": "2.7.14"
  }
 },
 "nbformat": 4,
 "nbformat_minor": 2
}
